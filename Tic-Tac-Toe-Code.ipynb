{
 "cells": [
  {
   "cell_type": "code",
   "execution_count": null,
   "id": "0fe851eb",
   "metadata": {},
   "outputs": [],
   "source": [
    "#CREATE YOUR BOARD\n",
    "\n",
    "from IPython.display import clear_output\n",
    "\n",
    "def display_board(board):\n",
    "    clear_output()\n",
    "    \n",
    "    print(board[7]+' | '+board[8]+' | '+board[9])\n",
    "    print('-----------')\n",
    "    print(board[4]+' | '+board[5]+' | '+board[6])\n",
    "    print('-----------')\n",
    "    print(board[1]+' | '+board[2]+' | '+board[3])"
   ]
  },
  {
   "cell_type": "code",
   "execution_count": null,
   "id": "7ad38142",
   "metadata": {},
   "outputs": [],
   "source": [
    "#TEST IF THE BOARD LOOKS GOOD, ADDED DUMMY DATA\n",
    "\n",
    "test_board = ['#','X','O','X','O','X','O','X','O','X']\n",
    "display_board(test_board)"
   ]
  },
  {
   "cell_type": "code",
   "execution_count": null,
   "id": "10d3a7f5",
   "metadata": {},
   "outputs": [],
   "source": [
    "#FUNCTION TO INSERT PLAYER INPUT, AND DEFINE MARKERS TO PLAYER\n",
    "\n",
    "def player_input():\n",
    "    \n",
    "    marker = ' '\n",
    "    \n",
    "    while marker != 'X' and marker != 'O':\n",
    "        marker = input('Player 1, please choose if you want to be X or O: ')\n",
    "        \n",
    "    player1 = marker \n",
    "    \n",
    "    if player1 == 'X':\n",
    "        player2 = 'O'\n",
    "        print('Player 2, you will be O.')\n",
    "    else:\n",
    "        player2 = 'X'\n",
    "        print('Player 2, you will be X.')\n",
    "        \n",
    "    \n",
    "    return(player1,player2)"
   ]
  },
  {
   "cell_type": "code",
   "execution_count": null,
   "id": "9e14be1b",
   "metadata": {},
   "outputs": [],
   "source": [
    "player_input()"
   ]
  },
  {
   "cell_type": "code",
   "execution_count": null,
   "id": "b1b44ccf",
   "metadata": {},
   "outputs": [],
   "source": [
    "#FUNCTION THAT TAKES MARKER AND PLACES IT IN THE DESIRED POSITION \n",
    "\n",
    "def place_marker(board, marker, position):\n",
    "    \n",
    "    board[position] = marker"
   ]
  },
  {
   "cell_type": "code",
   "execution_count": null,
   "id": "67cbb717",
   "metadata": {},
   "outputs": [],
   "source": [
    "#RAN A TEST TO MAKE SURE IT WORKS (SKIP THIS IF YOU LIKE)\n",
    "\n",
    "place_marker(test_board,'$',8)\n",
    "display_board(test_board)"
   ]
  },
  {
   "cell_type": "code",
   "execution_count": null,
   "id": "2f456709",
   "metadata": {},
   "outputs": [],
   "source": [
    "#INSERT CHECKS FOR ALL THE POSIBILITIES TO CHECK FOR A WIN/ LOSE OR TIE\n",
    "\n",
    "def win_check(board, mark):\n",
    "    \n",
    "    #MATCHING UP ALL ROWS\n",
    "    return((board[1] == mark and board[2] == mark and board[3] == mark) or #HORIZONTAL\n",
    "    (board[4] == mark and board[5] == mark and board[6] == mark) or #HORIZONTAL\n",
    "    (board[7] == mark and board[8] == mark and board[9] == mark) or #HORIZONTAL\n",
    "    (board[1] == mark and board[4] == mark and board[7] == mark) or #VERTICAL\n",
    "    (board[2] == mark and board[5] == mark and board[8] == mark) or #VERTICAL\n",
    "    (board[3] == mark and board[6] == mark and board[9] == mark) or #VERTICAL\n",
    "    (board[1] == mark and board[5] == mark and board[9] == mark) or #DIAGONAL\n",
    "    (board[3] == mark and board[5] == mark and board[7] == mark)) #DIAGONAL      "
   ]
  },
  {
   "cell_type": "code",
   "execution_count": null,
   "id": "89895390",
   "metadata": {},
   "outputs": [],
   "source": [
    "#ANOTHER TEST STEP THAT YOU COULD IGNORE \n",
    "\n",
    "display_board(test_board)\n",
    "win_check(test_board,'X')"
   ]
  },
  {
   "cell_type": "code",
   "execution_count": null,
   "id": "d58e3053",
   "metadata": {},
   "outputs": [],
   "source": [
    "#USED THE .RANDINT() FUNCTION TO RANDOMLY DECIDE WHICH PLAYER GOES FIRST\n",
    "\n",
    "import random\n",
    "\n",
    "def choose_first():\n",
    "    flip = random.randint(0,1)\n",
    "\n",
    "    if flip == 0:\n",
    "        return 'Player 2'\n",
    "    else:\n",
    "        return 'Player 1'"
   ]
  },
  {
   "cell_type": "code",
   "execution_count": null,
   "id": "c0b0ef29",
   "metadata": {},
   "outputs": [],
   "source": [
    "#CHECK IF A SPACE ON THE BOARD IS AVAILABLE WHEN ENTERED\n",
    "\n",
    "def space_check(board, position):\n",
    "    \n",
    "    return board[position] == ' '"
   ]
  },
  {
   "cell_type": "code",
   "execution_count": null,
   "id": "c124d319",
   "metadata": {},
   "outputs": [],
   "source": [
    "#CHECK IF THE BOARD IS FULL (RETURNS A BOOLEAN)\n",
    "\n",
    "def full_board_check(board):\n",
    "    \n",
    "    for i in range (1,10):\n",
    "        if space_check(board,i):\n",
    "            return False\n",
    "    \n",
    "#IF BOARD IS FULL RETURN TRUE\n",
    "\n",
    "    return True"
   ]
  },
  {
   "cell_type": "code",
   "execution_count": null,
   "id": "ba66b3f5",
   "metadata": {},
   "outputs": [],
   "source": [
    "#FUNCTION THAT TAKES THE INPUT FROM THE PLAYER AND PLACES IT ON THE BOARD IF IT IS AVAILABLE\n",
    "\n",
    "def player_choice(board):\n",
    "    \n",
    "    position = 0\n",
    "    \n",
    "    while position not in [1,2,3,4,5,6,7,8,9] or not space_check(board,position):\n",
    "        position = int(input('Choose a position (1-9)'))\n",
    "        \n",
    "    return position"
   ]
  },
  {
   "cell_type": "code",
   "execution_count": null,
   "id": "d971049a",
   "metadata": {},
   "outputs": [],
   "source": [
    "#THIS FUNCTION ASKS IF THE PLAYER WOULD LIKE TO PLAY AGAIN \n",
    "\n",
    "def replay():\n",
    "    \n",
    "    choice = input('Play again? enter Yes or No')\n",
    "    \n",
    "    return choice == 'Yes'"
   ]
  },
  {
   "cell_type": "code",
   "execution_count": null,
   "id": "006784ad",
   "metadata": {},
   "outputs": [],
   "source": [
    "#INTO THE LAST STRETCH, LET'S PUT IT ALL TOGETHER \n",
    "\n",
    "print(\"Welcome to Varshni's Tic Tac Toe!\")\n",
    "\n",
    "while True:\n",
    "   #RESET THE BOARD\n",
    "\n",
    "    theboard = [' '] * 10\n",
    "    player1_marker, player2_marker = player_input()\n",
    "    \n",
    "    turn = choose_first()\n",
    "    print(turn + ' will go first.')\n",
    "    \n",
    "    play_game = input('Ready to play? Y or N')\n",
    "    \n",
    "    if play_game == 'Y':\n",
    "        game_on = True\n",
    "    else:\n",
    "        game_on = False\n",
    "        \n",
    "#PLAYER 1 TURN\n",
    "\n",
    "    while game_on:\n",
    "        if turn == 'Player 1':\n",
    "            \n",
    "            display_board(theboard)\n",
    "            position = player_choice(theboard)\n",
    "            place_marker(theboard, player1_marker,position)\n",
    "            \n",
    "            if win_check(theboard,player1_marker):\n",
    "                display_board(theboard)\n",
    "                \n",
    "                print('PLAYER 1, YOU WON!!')\n",
    "                game_on = False\n",
    "                \n",
    "            else:\n",
    "                if full_board_check(theboard):\n",
    "                    display_board(theboard)\n",
    "                    print( 'TIE!!')\n",
    "                    game_on = False\n",
    "                else:\n",
    "#PLAYER 2 TURN\n",
    "\n",
    "        else:\n",
    "            display_board(theboard)\n",
    "            position = player_choice(theboard)\n",
    "            place_marker(theboard, player2_marker,position)\n",
    "            \n",
    "            if win_check(theboard,player2_marker):\n",
    "                display_board(theboard)\n",
    "                \n",
    "                print('PLAYER 2, YOU WON!!')\n",
    "                game_on = False\n",
    "                \n",
    "            else:\n",
    "                if full_board_check(theboard):\n",
    "                    display_board(theboard)\n",
    "                    print( 'TIE!!')\n",
    "                    game_on = False\n",
    "                else:\n",
    "                    turn = 'Player 1'\n",
    "            \n",
    "        \n",
    "    if not replay():\n",
    "        break                "
   ]
  }
 ],
 "metadata": {
  "kernelspec": {
   "display_name": "Python 3 (ipykernel)",
   "language": "python",
   "name": "python3"
  },
  "language_info": {
   "codemirror_mode": {
    "name": "ipython",
    "version": 3
   },
   "file_extension": ".py",
   "mimetype": "text/x-python",
   "name": "python",
   "nbconvert_exporter": "python",
   "pygments_lexer": "ipython3",
   "version": "3.9.13"
  }
 },
 "nbformat": 4,
 "nbformat_minor": 5
}
